{
 "cells": [
  {
   "cell_type": "markdown",
   "metadata": {},
   "source": [
    "---\n",
    "\n",
    "# Week - 7\n",
    "\n",
    "----"
   ]
  },
  {
   "cell_type": "markdown",
   "metadata": {},
   "source": [
    "## Day 25 - 30.09.2024"
   ]
  },
  {
   "cell_type": "markdown",
   "metadata": {},
   "source": [
    "### __Multi-Way Search Trees__"
   ]
  },
  {
   "cell_type": "markdown",
   "metadata": {},
   "source": [
    "### (2,4) Trees\n",
    "\n",
    "- A (2,4) tree is a multiway search tree with the following properties\n",
    "    - Node-size property: has atmost four childern (which implies that each node can have 3 keys)\n",
    "    - Depth peoperty: all external nodes have th same depth\n",
    "- Depending on the number of children of an internal node of a 2,4 tree is called a 2 node, 3 node or 4 node"
   ]
  },
  {
   "cell_type": "markdown",
   "metadata": {},
   "source": [
    "keylist[3] \\\n",
    "childlist[4] \\\n",
    "[ ||  k1 || k2 || k3 ||] \\\n",
    "[cl[0] cl[1] cl[2] cl[3]] \n",
    "\n",
    "```python\n",
    "def search(Node, key):\n",
    "    if Node==None:\n",
    "        return None\n",
    "    if key in Node.kl:\n",
    "        return Node\n",
    "    if key<Node.kl[0]:\n",
    "        search(cl[0], key)\n",
    "    if key<Node.kl[1]:\n",
    "        search(cl[1],key)\n",
    "    if key<Node.kl[2]:\n",
    "        search(cl[2], key)\n",
    "    \n",
    "```\n",
    "\n",
    "Insertion\n",
    "- Inserting is always done at the parent node of a leaf\n",
    "    - we must preserve the depth property\n",
    "    - we may encounter an overflow error\n",
    "        - we handle an overflow at a 5-node by a `split` operation\n",
    "        - Ex: u has keys u1,u2 and its child v has keys k1,k2,k3,k4 and children v1,v2,v3,v4,v5 then we make u as u1,u2,k3 and make v as v' and v\" with keys k1,k2 and children v1,v2,v3 and keys k4 and childern v4,v4 respectively\n",
    "        - In the worst case we need to do this upto the root and supposing the root becomes a 5-node and thus we split it and create a new root\n",
    "- Insertion is of the order _O(log n)_\n",
    "\n",
    "Deletion\n",
    "- We replace it with its inorder successor and delete the later entry\n",
    "    - This might result in and underflow\n",
    "        - This can be handled by a `fusion` operation"
   ]
  },
  {
   "cell_type": "markdown",
   "metadata": {},
   "source": [
    "Here ends the discussion on search trees "
   ]
  },
  {
   "cell_type": "markdown",
   "metadata": {
    "vscode": {
     "languageId": "plaintext"
    }
   },
   "source": [
    "---\n",
    "# Week - 8\n",
    "---"
   ]
  },
  {
   "cell_type": "markdown",
   "metadata": {},
   "source": [
    "## Day 26  - 04.10.2024"
   ]
  },
  {
   "cell_type": "markdown",
   "metadata": {},
   "source": [
    "## Maps"
   ]
  },
  {
   "cell_type": "markdown",
   "metadata": {},
   "source": [
    "- **map** is a searchable collection of items that are key-value pairs\n",
    "- the main operations of a map are searching, inserting and deleting items\n",
    "- multiple items with same key arer not allowed\n",
    "- applications\n",
    "    - address book\n",
    "    - student record data base"
   ]
  },
  {
   "cell_type": "markdown",
   "metadata": {},
   "source": [
    "### DIctionaries\n",
    "- arguably the most significant data structure in the language\n",
    "- we use the term _dictionary_ to specifically refer python's dict class and _map_ to the general notation"
   ]
  },
  {
   "cell_type": "markdown",
   "metadata": {},
   "source": [
    "### the Map ADT\n",
    "| python function | its function |\n",
    "| --- | --- |\n",
    "|`__setitem__` | for `M[k] = v` |\n",
    "|`__getitem__` | for `M[k]` |\n",
    "|`__delitem__` | `del M[k]` |\n",
    "|`__contains__` | `k in M` |\n",
    "|`__iter__` | for `for k in M` |"
   ]
  },
  {
   "cell_type": "markdown",
   "metadata": {},
   "source": [
    "One ways to implement a map is by using a simple list... (a tuple in a list or using a doubly linked list)"
   ]
  },
  {
   "cell_type": "markdown",
   "metadata": {},
   "source": [
    "Other ways are\n",
    "- arrays, linked lists (inefficient)\n",
    "- binary trees\n",
    "- _hash table_\n",
    "- 2-4 trees\n",
    "- avl trees\n",
    "- b-trees"
   ]
  },
  {
   "cell_type": "markdown",
   "metadata": {},
   "source": [
    "Hash Table Solution\n",
    "\n",
    "- O(1) - expected time \n",
    "- O(n+m) - space, where m is the size of the table\n",
    "- Instead of one to one map between the key values and array locations, find a function to map the large range into one whihc we can manage\n",
    "    - eg, key value modulo size of the array and use that as the index\n",
    "    - eg, eg, Insert(12345678, C) into a hashed array of size 5, 12345678 mod 5 = 3\n",
    "    - |  |  |  | C |  |\n",
    "      | --- | --- | --- | --- | --- |\n",
    "      | XXXXXXX | XXXXXXXX | XXXXXXX | 12345678 | XXXXXXXX |  \n",
    "\n"
   ]
  },
  {
   "cell_type": "markdown",
   "metadata": {},
   "source": [
    "The idea is that given any key, we can devise a hash function $H$ using which we can map every key, by convering every key to a numeric value and use the hash function on the numeric value"
   ]
  },
  {
   "cell_type": "markdown",
   "metadata": {},
   "source": [
    "__Hash Functions__\n",
    "- Need to choose a good hash function\n",
    "    - quick to compute\n",
    "    - uniform distribution of keys\n",
    "    - good hash functions are rare\n",
    "- how to deal with hashing non-integer keys\n",
    "    - find some ways to turn keys into integers\n",
    "    - use a hash function on these integers"
   ]
  },
  {
   "cell_type": "markdown",
   "metadata": {},
   "source": [
    "## Day 27 - 07.10.2024"
   ]
  },
  {
   "cell_type": "markdown",
   "metadata": {},
   "source": [
    "Hash Function\n",
    "- A hash function is usually specified as the composition of two functions\n",
    "    - Hash Code _h<sub>1</sub>_ : keys $\\rightarrow$ integers\n",
    "    - ..."
   ]
  },
  {
   "cell_type": "markdown",
   "metadata": {},
   "source": [
    "Hash Code\n",
    "- Integer Cast:\n",
    "    - We reinterpret the bits of the key as an integer\n",
    "    - Suitable for keys of length less than or equal to the number of bits of integer type (eg, byte, short, int and float)\n",
    "    - for keys of length greater\n",
    "\n",
    "...\n",
    "\n",
    "- Polynomial Accumulation"
   ]
  },
  {
   "cell_type": "code",
   "execution_count": 14,
   "metadata": {},
   "outputs": [
    {
     "name": "stdout",
     "output_type": "stream",
     "text": [
      "{99: [200, 705], 3: [205, 710], 8: [210, 715], 13: [215, 720], 18: [220, 725], 23: [225, 730], 28: [230, 735], 33: [235, 740], 38: [240, 745], 43: [245, 750], 48: [250, 755], 53: [255, 760], 58: [260, 765], 63: [265, 770], 68: [270, 775], 73: [275, 780], 78: [280, 785], 83: [285, 790], 88: [290, 795], 93: [295, 800], 98: [300, 805], 2: [305, 810], 7: [310, 815], 12: [315, 820], 17: [320, 825], 22: [325, 830], 27: [330, 835], 32: [335, 840], 37: [340, 845], 42: [345, 850], 47: [350, 855], 52: [355, 860], 57: [360, 865], 62: [365, 870], 67: [370, 875], 72: [375, 880], 77: [380, 885], 82: [385, 890], 87: [390, 895], 92: [395, 900], 97: [400, 905], 1: [405, 910], 6: [410, 915], 11: [415, 920], 16: [420, 925], 21: [425, 930], 26: [430, 935], 31: [435, 940], 36: [440, 945], 41: [445, 950], 46: [450, 955], 51: [455, 960], 56: [460, 965], 61: [465, 970], 66: [470, 975], 71: [475, 980], 76: [480, 985], 81: [485, 990], 86: [490, 995], 91: [495, 1000], 96: [500], 0: [505], 5: [510], 10: [515], 15: [520], 20: [525], 25: [530], 30: [535], 35: [540], 40: [545], 45: [550], 50: [555], 55: [560], 60: [565], 65: [570], 70: [575], 75: [580], 80: [585], 85: [590], 90: [595], 95: [600], 100: [605], 4: [610], 9: [615], 14: [620], 19: [625], 24: [630], 29: [635], 34: [640], 39: [645], 44: [650], 49: [655], 54: [660], 59: [665], 64: [670], 69: [675], 74: [680], 79: [685], 84: [690], 89: [695], 94: [700]}\n",
      "101\n",
      "161\n"
     ]
    }
   ],
   "source": [
    "d = {}\n",
    "n = 101\n",
    "c = 0\n",
    "for i in range(200,1001, 5):\n",
    "    c+=1\n",
    "    if i%n not in d:\n",
    "        d[i%n] = [i]\n",
    "    else:\n",
    "        d[i%n] += [i]\n",
    "# sorted(d)\n",
    "print(d)\n",
    "print(len(d))\n",
    "print(c)"
   ]
  },
  {
   "cell_type": "markdown",
   "metadata": {},
   "source": [
    "### Collision Handling\n",
    "Can be done using seperate chaining or probing"
   ]
  },
  {
   "cell_type": "markdown",
   "metadata": {},
   "source": [
    "## Day 28 - 09.10.2024"
   ]
  },
  {
   "cell_type": "markdown",
   "metadata": {},
   "source": [
    "Another technique to handle collisions is double hashing\n",
    "\n",
    "Double Hashing\n",
    "- Double hashing uses a secondary hash function d(k) and handles collisions by placing an item in the first available cell of the series \\\n",
    "    (i + jd(k)) mod N \\\n",
    "    for j = 0, 1, … , N - 1\n",
    "- q The secondary hash function d(k) cannot have zero values\n",
    "- q The table size N must be a prime to allow probing of all the cells"
   ]
  },
  {
   "cell_type": "markdown",
   "metadata": {},
   "source": [
    "Assuming thta the hash values are like random numbers, it can be shown that the expected number of probes for an insertion with open addressing is $1/(1-\\alpha)$"
   ]
  },
  {
   "cell_type": "markdown",
   "metadata": {},
   "source": [
    "Applications of Hash Tables\n",
    "- small data bases\n",
    "- compilers\n",
    "- browser caches"
   ]
  },
  {
   "cell_type": "markdown",
   "metadata": {},
   "source": [
    "Bloom filter - we devise the number of bits we are about to use... and we set some of the bits as 1... and then.... google it"
   ]
  },
  {
   "cell_type": "markdown",
   "metadata": {},
   "source": [
    "---\n",
    "# Week 9\n",
    "\n",
    "---"
   ]
  },
  {
   "cell_type": "markdown",
   "metadata": {},
   "source": [
    "## Pattern Matching\n",
    "\n",
    "### Strings\n",
    "\n",
    "- A string is a sequence of characters\n",
    "- Examples of strings\n",
    "    - Pyhton program\n",
    "    - HTML document\n",
    "    - DNA seq ...\n",
    "- An alphabet is the set of possible characters \n",
    "    - ASCII\n",
    "    - unicode\n",
    "    - {0,1}\n",
    "\n"
   ]
  },
  {
   "cell_type": "code",
   "execution_count": 1,
   "metadata": {},
   "outputs": [
    {
     "name": "stdout",
     "output_type": "stream",
     "text": [
      "0 - అ\n"
     ]
    }
   ],
   "source": [
    "for i in range(0,1):\n",
    "    if i<10:\n",
    "        s = u'\\u0c05' \n",
    "        print(f'{i} - {s}')\n",
    "    else:\n",
    "        s = u'\\u0c05' \n",
    "        print(f'{i} - {s}')\n",
    "    \n"
   ]
  },
  {
   "cell_type": "markdown",
   "metadata": {},
   "source": [
    "Brute force pattern matching -  _O(N.M)_"
   ]
  },
  {
   "cell_type": "markdown",
   "metadata": {},
   "source": [
    "## Day 29 - 14.10.2024"
   ]
  },
  {
   "cell_type": "markdown",
   "metadata": {},
   "source": [
    "Bad Character Rule"
   ]
  }
 ],
 "metadata": {
  "kernelspec": {
   "display_name": "Python 3",
   "language": "python",
   "name": "python3"
  },
  "language_info": {
   "codemirror_mode": {
    "name": "ipython",
    "version": 3
   },
   "file_extension": ".py",
   "mimetype": "text/x-python",
   "name": "python",
   "nbconvert_exporter": "python",
   "pygments_lexer": "ipython3",
   "version": "3.12.7"
  }
 },
 "nbformat": 4,
 "nbformat_minor": 2
}
