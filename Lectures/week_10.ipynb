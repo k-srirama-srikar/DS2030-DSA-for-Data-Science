{
 "cells": [
  {
   "cell_type": "markdown",
   "metadata": {},
   "source": [
    "---\n",
    "# Week 10\n",
    "---"
   ]
  },
  {
   "cell_type": "markdown",
   "metadata": {},
   "source": [
    "## Day 31 - 18.10.2024"
   ]
  },
  {
   "cell_type": "markdown",
   "metadata": {},
   "source": [
    "### Tries"
   ]
  },
  {
   "cell_type": "markdown",
   "metadata": {},
   "source": [
    "### Prepocessing strings\n",
    "- preprocessing the pattern speeds up pattern matching\n",
    "- if the text is large, immutable and searched for often (e.g., work by Shakespeare), we may pre process the text instead of the pattern\n",
    "- a trie is a compact data structure\n",
    "\n",
    "### Standard trie\n",
    "- the satandard trie for a set of strings s it is an ordered tree such taht\n",
    "    - each node but the root is labeld with a character\n",
    "    - the childeren of a node are alphabetically ordered\n",
    "    - the paths from the external nodes to root yield the string s\n",
    "- ex : s = {bear, bull,bid,buy,sell,stock,stop}\n",
    "```python\n",
    "\n",
    "        #           _\n",
    "        #        /    \\\n",
    "        #       b      s\n",
    "        #     / | \\   / \\ \n",
    "        #    e  i u  e   t\n",
    "        #   / \\ | /\\ |   | \n",
    "        #  a   ld l yl   o \n",
    "        #  |   |  |  |  / \\ \n",
    "        #  r   l  l  l c   p\n",
    "        #              |\n",
    "        #              k\n",
    "\n",
    "``` "
   ]
  },
  {
   "cell_type": "markdown",
   "metadata": {},
   "source": [
    "_Analysis of tries_\n",
    "\n",
    "O(n) space supposts inserts and deletions in time O(dm) where :  n - total size of the strings, m - size of the string parameter, d - size of the alphabet\n"
   ]
  },
  {
   "cell_type": "markdown",
   "metadata": {},
   "source": [
    "Applications\n",
    "- word matcing\n",
    "- prefix matching"
   ]
  },
  {
   "cell_type": "markdown",
   "metadata": {},
   "source": [
    "Word matching with trie"
   ]
  },
  {
   "cell_type": "markdown",
   "metadata": {},
   "source": [
    "_Compressed trie_\n",
    "- has internal nodes of degree at least two, \n",
    "- we get it by combining/compressing the redundant nodes\n",
    "- A REPRESENTATION : we can store them using pointers like 1,0,0 or 7,0,3 where sting position in the list, start entry, end entry"
   ]
  },
  {
   "cell_type": "markdown",
   "metadata": {},
   "source": [
    "Insertinon or deletin in a compressed trie\n",
    "\n",
    "....\n",
    "\n",
    "\n",
    "In the tries, we have a notion of adjacency"
   ]
  },
  {
   "cell_type": "markdown",
   "metadata": {},
   "source": [
    "Application - routing through tries\n",
    "- internet routers maintain a Trie (table)\n",
    "- it is not a lookup\n",
    "    - forward packets to its neighbours using IP prefix matching"
   ]
  },
  {
   "cell_type": "markdown",
   "metadata": {},
   "source": [
    "Suffix trie\n",
    "- a compressed trie that contains all the suffixes of X"
   ]
  },
  {
   "cell_type": "markdown",
   "metadata": {},
   "source": [
    "---\n",
    "Here ends the discussion on strings\n",
    "\n",
    "---"
   ]
  },
  {
   "cell_type": "markdown",
   "metadata": {},
   "source": [
    "## Day 32 - 21.08.2024"
   ]
  },
  {
   "cell_type": "markdown",
   "metadata": {},
   "source": [
    "## Dynamic Programming"
   ]
  },
  {
   "cell_type": "markdown",
   "metadata": {},
   "source": [
    "Motivating Example\n",
    "\n",
    "- Fibonacci nuumber computation\n",
    "    - recuraive definition\n",
    "        - `fib(n) = fib(n-1) - fib(n-2)` \n",
    "    - complexity - O($\\phi$<sup>n</sup>)\n",
    "\n",
    "- Matrix chain products\n",
    "    - dynamic programming id a general algorithm design paradigm\n",
    "        - matrix chained products \n",
    "    - review\n",
    "        - C = A * B\n",
    "        - A is d x e and B is e x f \n",
    "        - O(def)\n",
    "        - $C[i,j] = \\sum_{k=0}^{e-1} {A[i,k]*B[k,j]}$\n",
    "    - A1 (d1 x d2) * A2 (d2 x d3) = B (d1 x d3)\n",
    "    - ```python\n",
    "        for i in range(1,d1):\n",
    "            for j in range(1,d3):\n",
    "            B[i][j] = 0\n",
    "            for k != d2:\n",
    "                # do something\n",
    "                pass\n",
    "        \n",
    "        ```\n",
    "    - problem : how do we paranthesize? \n",
    "        - eg: A<sub>1</sub>A<sub>2</sub>A<sub>3</sub>A<sub>4</sub>\n",
    "        - can be divided as <br>(A<sub>1</sub>A<sub>2</sub>A<sub>3</sub>)A<sub>4</sub>, <br>A<sub>1</sub>A<sub>2</sub>(A<sub>3</sub>A<sub>4</sub>), <br>A<sub>1</sub>(A<sub>2</sub>A<sub>3</sub>)A<sub>4</sub>, <br>A<sub>1</sub>(A<sub>2</sub>A<sub>3</sub>A<sub>4</sub>), <br>(A<sub>1</sub>A<sub>2</sub>)(A<sub>3</sub>A<sub>4</sub>)"
   ]
  },
  {
   "cell_type": "markdown",
   "metadata": {},
   "source": [
    "**how to paranthesize?**\n",
    "\n",
    "A Greedy Approach\n",
    "- Idea #1 : repeatedly select up the product that uses most operations at first.... but this has a counter exmaple\n",
    "- Idea #2 : repeatedly select the product that uses the fewest operations.... but even this is not able to give the optimal sequence as well\n",
    "\n",
    "A recursive Approach\n",
    "- Define subproblems\n",
    "- Subproblem optimality\n",
    "- a characterizing equation\n",
    "\n",
    "A dynamic programming algorithm\n"
   ]
  },
  {
   "cell_type": "markdown",
   "metadata": {},
   "source": [
    "## Day 33 - 22.10.2024"
   ]
  },
  {
   "cell_type": "markdown",
   "metadata": {},
   "source": [
    "Dynamic Programming General technique\n",
    "\n",
    "Subsequences:\n",
    "- not the same as substring\n",
    "- for a string $x_1 x_2 ...  x_n$\n",
    "\n",
    "Longest Common subsequence:\n"
   ]
  }
 ],
 "metadata": {
  "kernelspec": {
   "display_name": "Python 3",
   "language": "python",
   "name": "python3"
  },
  "language_info": {
   "name": "python",
   "version": "3.12.7"
  }
 },
 "nbformat": 4,
 "nbformat_minor": 2
}
