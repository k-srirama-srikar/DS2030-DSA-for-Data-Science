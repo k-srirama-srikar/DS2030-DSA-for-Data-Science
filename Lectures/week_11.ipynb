{
 "cells": [
  {
   "cell_type": "markdown",
   "metadata": {},
   "source": [
    "---\n",
    "# Week 11 \n",
    "---"
   ]
  },
  {
   "cell_type": "markdown",
   "metadata": {},
   "source": [
    "## Day 34 - 23.10.2024"
   ]
  },
  {
   "cell_type": "markdown",
   "metadata": {},
   "source": [
    "## Divide and Conquer "
   ]
  },
  {
   "cell_type": "markdown",
   "metadata": {},
   "source": [
    "- the general paradigm\n",
    "    - divide\n",
    "    - recur\n",
    "    - conquer\n",
    "\n",
    "- example: Merge sort"
   ]
  },
  {
   "cell_type": "markdown",
   "metadata": {},
   "source": [
    "**Recurrences**\n",
    "- analysis of recurrence functions\n",
    "\n",
    "__More sorting algorithms__\n",
    "| Alg | time | notes |\n",
    "| --- | --- | --- |\n",
    "| selection sort | $O(n^2)$ | slow, in place, small datasets |\n",
    "| insertion sort | $O(n^2)$ | slow, in place, small datasets |\n",
    "| quick sort | $O(n\\log(n))$ | fast, randomized, in place, large datasets |\n",
    "| heap sort | $O(n\\log(n))$ | fast, in place, large datasets |\n",
    "| merge sort | $O(n\\log(n))$ | sequential data access, huge datasets |\n",
    "\n",
    "\n",
    "\n",
    "- $Quick \\space Sort$ - Randomized algorithm (Algorithms are either randomized or parametrized)\n",
    "    - the divide is randomized\n",
    "        - we pick a random element $x$, called pivot, and partion S into \n",
    "            - L elements less than $x$\n",
    "            - E elements equal to $x$\n",
    "            - L elements greater than $x$\n",
    "    - recur : sort L, G\n",
    "    - conquer : join L E G\n",
    "- $Radix \\space Exchange \\space Sort$ - \n",
    "    - reordering the elements by the most significant bit\n",
    "    - all keys are represented by a fixed number of bits\n",
    "    - the complexity is $O(b*n)$ where b is the number of bits and"
   ]
  },
  {
   "cell_type": "markdown",
   "metadata": {},
   "source": [
    "## Day 35 - 25.10.2024"
   ]
  },
  {
   "cell_type": "markdown",
   "metadata": {},
   "source": [
    "- $Straight \\space Radix \\space Sort$ -\n",
    "    - we examine the bits from right to left in a stable way\n",
    "    - we go from 0 to b-1\n",
    "    - ```python\n",
    "      # 1001 0010 1001 1001 0001\n",
    "      # 0010 1110 1101 0001 0010\n",
    "      # 1101 1001 0001 0010 1001\n",
    "      # 0001 1101 0010 1101 1101\n",
    "      # 1110 0001 1110 1110 1110\n",
    "      ```\n",
    "    - sorting in a stable way means that the initial relative order of equal keys remain unchanged\n",
    "    - ie the relative order if those keys ending with 0 and \n",
    "    - <i><b>Correctness</b></i> -\n",
    "      - we show that at the end of the algorithm the keys end up in the same relative order\n",
    "      - this can also be performed using decimal numbers\n",
    "    - the complexity of straight radix sort is $O(b*n)$\n",
    "    - for decimal numbers how do we ensure that it is of $O(n)$\n",
    "      - we assume that there are a finite number of elements and use it to sort whilst preserving the order\n",
    "      - this is called <i><b>Bucket Sort</b></i>\n",
    "\n",
    "<br>\n",
    "\n",
    "- $Bucket \\space Sort$ -\n",
    "  - basics : n numbers, each number $\\in$ {1,2,3,4...,m}"
   ]
  },
  {
   "cell_type": "markdown",
   "metadata": {},
   "source": [
    "\n",
    "__The total time complexity of any soting algorithm is__ $\\Omega(n \\log(n))$"
   ]
  }
 ],
 "metadata": {
  "language_info": {
   "name": "python"
  }
 },
 "nbformat": 4,
 "nbformat_minor": 2
}
